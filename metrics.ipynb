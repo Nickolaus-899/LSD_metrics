{
 "cells": [
  {
   "cell_type": "markdown",
   "metadata": {},
   "source": [
    "# Metrics"
   ]
  },
  {
   "cell_type": "markdown",
   "metadata": {},
   "source": [
    "# Loading libraries"
   ]
  },
  {
   "cell_type": "code",
   "execution_count": 1,
   "metadata": {},
   "outputs": [
    {
     "name": "stdout",
     "output_type": "stream",
     "text": [
      "Requirement already satisfied: datasets in c:\\users\\nickolaus\\appdata\\local\\programs\\python\\python312\\lib\\site-packages (3.3.2)\n",
      "Requirement already satisfied: nltk in c:\\users\\nickolaus\\appdata\\local\\programs\\python\\python312\\lib\\site-packages (3.9.1)\n",
      "Requirement already satisfied: spacy in c:\\users\\nickolaus\\appdata\\local\\programs\\python\\python312\\lib\\site-packages (3.7.5)\n",
      "Requirement already satisfied: wordfreq in c:\\users\\nickolaus\\appdata\\local\\programs\\python\\python312\\lib\\site-packages (3.1.1)\n",
      "Requirement already satisfied: language-tool-python in c:\\users\\nickolaus\\appdata\\local\\programs\\python\\python312\\lib\\site-packages (2.9.0)\n",
      "Requirement already satisfied: textstat in c:\\users\\nickolaus\\appdata\\local\\programs\\python\\python312\\lib\\site-packages (0.7.5)\n",
      "Requirement already satisfied: cffi in c:\\users\\nickolaus\\appdata\\local\\programs\\python\\python312\\lib\\site-packages (1.17.1)\n",
      "Requirement already satisfied: filelock in c:\\users\\nickolaus\\appdata\\local\\programs\\python\\python312\\lib\\site-packages (from datasets) (3.13.1)\n",
      "Requirement already satisfied: numpy>=1.17 in c:\\users\\nickolaus\\appdata\\local\\programs\\python\\python312\\lib\\site-packages (from datasets) (1.26.4)\n",
      "Requirement already satisfied: pyarrow>=15.0.0 in c:\\users\\nickolaus\\appdata\\local\\programs\\python\\python312\\lib\\site-packages (from datasets) (18.0.0)\n",
      "Requirement already satisfied: dill<0.3.9,>=0.3.0 in c:\\users\\nickolaus\\appdata\\local\\programs\\python\\python312\\lib\\site-packages (from datasets) (0.3.8)\n",
      "Requirement already satisfied: pandas in c:\\users\\nickolaus\\appdata\\local\\programs\\python\\python312\\lib\\site-packages (from datasets) (2.2.0)\n",
      "Requirement already satisfied: requests>=2.32.2 in c:\\users\\nickolaus\\appdata\\local\\programs\\python\\python312\\lib\\site-packages (from datasets) (2.32.3)\n",
      "Requirement already satisfied: tqdm>=4.66.3 in c:\\users\\nickolaus\\appdata\\local\\programs\\python\\python312\\lib\\site-packages (from datasets) (4.67.0)\n",
      "Requirement already satisfied: xxhash in c:\\users\\nickolaus\\appdata\\local\\programs\\python\\python312\\lib\\site-packages (from datasets) (3.5.0)\n",
      "Requirement already satisfied: multiprocess<0.70.17 in c:\\users\\nickolaus\\appdata\\local\\programs\\python\\python312\\lib\\site-packages (from datasets) (0.70.16)\n",
      "Requirement already satisfied: fsspec<=2024.12.0,>=2023.1.0 in c:\\users\\nickolaus\\appdata\\local\\programs\\python\\python312\\lib\\site-packages (from fsspec[http]<=2024.12.0,>=2023.1.0->datasets) (2024.2.0)\n",
      "Requirement already satisfied: aiohttp in c:\\users\\nickolaus\\appdata\\local\\programs\\python\\python312\\lib\\site-packages (from datasets) (3.11.6)\n",
      "Requirement already satisfied: huggingface-hub>=0.24.0 in c:\\users\\nickolaus\\appdata\\local\\programs\\python\\python312\\lib\\site-packages (from datasets) (0.25.1)\n",
      "Requirement already satisfied: packaging in c:\\users\\nickolaus\\appdata\\local\\programs\\python\\python312\\lib\\site-packages (from datasets) (24.1)\n",
      "Requirement already satisfied: pyyaml>=5.1 in c:\\users\\nickolaus\\appdata\\local\\programs\\python\\python312\\lib\\site-packages (from datasets) (6.0.1)\n",
      "Requirement already satisfied: click in c:\\users\\nickolaus\\appdata\\local\\programs\\python\\python312\\lib\\site-packages (from nltk) (8.1.7)\n",
      "Requirement already satisfied: joblib in c:\\users\\nickolaus\\appdata\\local\\programs\\python\\python312\\lib\\site-packages (from nltk) (1.3.2)\n",
      "Requirement already satisfied: regex>=2021.8.3 in c:\\users\\nickolaus\\appdata\\local\\programs\\python\\python312\\lib\\site-packages (from nltk) (2024.7.24)\n",
      "Requirement already satisfied: spacy-legacy<3.1.0,>=3.0.11 in c:\\users\\nickolaus\\appdata\\local\\programs\\python\\python312\\lib\\site-packages (from spacy) (3.0.12)\n",
      "Requirement already satisfied: spacy-loggers<2.0.0,>=1.0.0 in c:\\users\\nickolaus\\appdata\\local\\programs\\python\\python312\\lib\\site-packages (from spacy) (1.0.5)\n",
      "Requirement already satisfied: murmurhash<1.1.0,>=0.28.0 in c:\\users\\nickolaus\\appdata\\local\\programs\\python\\python312\\lib\\site-packages (from spacy) (1.0.10)\n",
      "Requirement already satisfied: cymem<2.1.0,>=2.0.2 in c:\\users\\nickolaus\\appdata\\local\\programs\\python\\python312\\lib\\site-packages (from spacy) (2.0.8)\n",
      "Requirement already satisfied: preshed<3.1.0,>=3.0.2 in c:\\users\\nickolaus\\appdata\\local\\programs\\python\\python312\\lib\\site-packages (from spacy) (3.0.9)\n",
      "Requirement already satisfied: thinc<8.3.0,>=8.2.2 in c:\\users\\nickolaus\\appdata\\local\\programs\\python\\python312\\lib\\site-packages (from spacy) (8.2.5)\n",
      "Requirement already satisfied: wasabi<1.2.0,>=0.9.1 in c:\\users\\nickolaus\\appdata\\local\\programs\\python\\python312\\lib\\site-packages (from spacy) (1.1.3)\n",
      "Requirement already satisfied: srsly<3.0.0,>=2.4.3 in c:\\users\\nickolaus\\appdata\\local\\programs\\python\\python312\\lib\\site-packages (from spacy) (2.4.8)\n",
      "Requirement already satisfied: catalogue<2.1.0,>=2.0.6 in c:\\users\\nickolaus\\appdata\\local\\programs\\python\\python312\\lib\\site-packages (from spacy) (2.0.10)\n",
      "Requirement already satisfied: weasel<0.5.0,>=0.1.0 in c:\\users\\nickolaus\\appdata\\local\\programs\\python\\python312\\lib\\site-packages (from spacy) (0.4.1)\n",
      "Requirement already satisfied: typer<1.0.0,>=0.3.0 in c:\\users\\nickolaus\\appdata\\local\\programs\\python\\python312\\lib\\site-packages (from spacy) (0.12.3)\n",
      "Requirement already satisfied: pydantic!=1.8,!=1.8.1,<3.0.0,>=1.7.4 in c:\\users\\nickolaus\\appdata\\local\\programs\\python\\python312\\lib\\site-packages (from spacy) (2.8.2)\n",
      "Requirement already satisfied: jinja2 in c:\\users\\nickolaus\\appdata\\local\\programs\\python\\python312\\lib\\site-packages (from spacy) (3.1.3)\n",
      "Requirement already satisfied: setuptools in c:\\users\\nickolaus\\appdata\\local\\programs\\python\\python312\\lib\\site-packages (from spacy) (69.1.0)\n",
      "Requirement already satisfied: langcodes<4.0.0,>=3.2.0 in c:\\users\\nickolaus\\appdata\\local\\programs\\python\\python312\\lib\\site-packages (from spacy) (3.4.1)\n",
      "Requirement already satisfied: ftfy>=6.1 in c:\\users\\nickolaus\\appdata\\local\\programs\\python\\python312\\lib\\site-packages (from wordfreq) (6.3.1)\n",
      "Requirement already satisfied: locate<2.0.0,>=1.1.1 in c:\\users\\nickolaus\\appdata\\local\\programs\\python\\python312\\lib\\site-packages (from wordfreq) (1.1.1)\n",
      "Requirement already satisfied: msgpack<2.0.0,>=1.0.7 in c:\\users\\nickolaus\\appdata\\roaming\\python\\python312\\site-packages (from wordfreq) (1.1.0)\n",
      "Requirement already satisfied: psutil in c:\\users\\nickolaus\\appdata\\roaming\\python\\python312\\site-packages (from language-tool-python) (5.9.8)\n",
      "Requirement already satisfied: toml in c:\\users\\nickolaus\\appdata\\local\\programs\\python\\python312\\lib\\site-packages (from language-tool-python) (0.10.2)\n",
      "Requirement already satisfied: pyphen in c:\\users\\nickolaus\\appdata\\local\\programs\\python\\python312\\lib\\site-packages (from textstat) (0.17.2)\n",
      "Requirement already satisfied: cmudict in c:\\users\\nickolaus\\appdata\\local\\programs\\python\\python312\\lib\\site-packages (from textstat) (1.0.32)\n",
      "Requirement already satisfied: pycparser in c:\\users\\nickolaus\\appdata\\local\\programs\\python\\python312\\lib\\site-packages (from cffi) (2.22)\n",
      "Requirement already satisfied: aiohappyeyeballs>=2.3.0 in c:\\users\\nickolaus\\appdata\\local\\programs\\python\\python312\\lib\\site-packages (from aiohttp->datasets) (2.4.3)\n",
      "Requirement already satisfied: aiosignal>=1.1.2 in c:\\users\\nickolaus\\appdata\\local\\programs\\python\\python312\\lib\\site-packages (from aiohttp->datasets) (1.3.1)\n",
      "Requirement already satisfied: attrs>=17.3.0 in c:\\users\\nickolaus\\appdata\\local\\programs\\python\\python312\\lib\\site-packages (from aiohttp->datasets) (24.2.0)\n",
      "Requirement already satisfied: frozenlist>=1.1.1 in c:\\users\\nickolaus\\appdata\\local\\programs\\python\\python312\\lib\\site-packages (from aiohttp->datasets) (1.5.0)\n",
      "Requirement already satisfied: multidict<7.0,>=4.5 in c:\\users\\nickolaus\\appdata\\local\\programs\\python\\python312\\lib\\site-packages (from aiohttp->datasets) (6.1.0)\n",
      "Requirement already satisfied: propcache>=0.2.0 in c:\\users\\nickolaus\\appdata\\local\\programs\\python\\python312\\lib\\site-packages (from aiohttp->datasets) (0.2.0)\n",
      "Requirement already satisfied: yarl<2.0,>=1.17.0 in c:\\users\\nickolaus\\appdata\\local\\programs\\python\\python312\\lib\\site-packages (from aiohttp->datasets) (1.17.2)\n",
      "Requirement already satisfied: wcwidth in c:\\users\\nickolaus\\appdata\\roaming\\python\\python312\\site-packages (from ftfy>=6.1->wordfreq) (0.2.13)\n",
      "Requirement already satisfied: typing-extensions>=3.7.4.3 in c:\\users\\nickolaus\\appdata\\local\\programs\\python\\python312\\lib\\site-packages (from huggingface-hub>=0.24.0->datasets) (4.12.2)\n",
      "Requirement already satisfied: language-data>=1.2 in c:\\users\\nickolaus\\appdata\\local\\programs\\python\\python312\\lib\\site-packages (from langcodes<4.0.0,>=3.2.0->spacy) (1.2.0)\n",
      "Requirement already satisfied: annotated-types>=0.4.0 in c:\\users\\nickolaus\\appdata\\local\\programs\\python\\python312\\lib\\site-packages (from pydantic!=1.8,!=1.8.1,<3.0.0,>=1.7.4->spacy) (0.7.0)\n",
      "Requirement already satisfied: pydantic-core==2.20.1 in c:\\users\\nickolaus\\appdata\\local\\programs\\python\\python312\\lib\\site-packages (from pydantic!=1.8,!=1.8.1,<3.0.0,>=1.7.4->spacy) (2.20.1)\n",
      "Requirement already satisfied: charset-normalizer<4,>=2 in c:\\users\\nickolaus\\appdata\\local\\programs\\python\\python312\\lib\\site-packages (from requests>=2.32.2->datasets) (3.3.2)\n",
      "Requirement already satisfied: idna<4,>=2.5 in c:\\users\\nickolaus\\appdata\\local\\programs\\python\\python312\\lib\\site-packages (from requests>=2.32.2->datasets) (3.7)\n",
      "Requirement already satisfied: urllib3<3,>=1.21.1 in c:\\users\\nickolaus\\appdata\\local\\programs\\python\\python312\\lib\\site-packages (from requests>=2.32.2->datasets) (1.26.20)\n",
      "Requirement already satisfied: certifi>=2017.4.17 in c:\\users\\nickolaus\\appdata\\local\\programs\\python\\python312\\lib\\site-packages (from requests>=2.32.2->datasets) (2024.2.2)\n",
      "Requirement already satisfied: blis<0.8.0,>=0.7.8 in c:\\users\\nickolaus\\appdata\\local\\programs\\python\\python312\\lib\\site-packages (from thinc<8.3.0,>=8.2.2->spacy) (0.7.11)\n",
      "Requirement already satisfied: confection<1.0.0,>=0.0.1 in c:\\users\\nickolaus\\appdata\\local\\programs\\python\\python312\\lib\\site-packages (from thinc<8.3.0,>=8.2.2->spacy) (0.1.5)\n",
      "Requirement already satisfied: colorama in c:\\users\\nickolaus\\appdata\\roaming\\python\\python312\\site-packages (from tqdm>=4.66.3->datasets) (0.4.6)\n",
      "Requirement already satisfied: shellingham>=1.3.0 in c:\\users\\nickolaus\\appdata\\local\\programs\\python\\python312\\lib\\site-packages (from typer<1.0.0,>=0.3.0->spacy) (1.5.4)\n",
      "Requirement already satisfied: rich>=10.11.0 in c:\\users\\nickolaus\\appdata\\local\\programs\\python\\python312\\lib\\site-packages (from typer<1.0.0,>=0.3.0->spacy) (13.7.1)\n",
      "Requirement already satisfied: cloudpathlib<1.0.0,>=0.7.0 in c:\\users\\nickolaus\\appdata\\local\\programs\\python\\python312\\lib\\site-packages (from weasel<0.5.0,>=0.1.0->spacy) (0.19.0)\n",
      "Requirement already satisfied: smart-open<8.0.0,>=5.2.1 in c:\\users\\nickolaus\\appdata\\local\\programs\\python\\python312\\lib\\site-packages (from weasel<0.5.0,>=0.1.0->spacy) (7.0.5)\n",
      "Requirement already satisfied: importlib-metadata>=5 in c:\\users\\nickolaus\\appdata\\local\\programs\\python\\python312\\lib\\site-packages (from cmudict->textstat) (8.6.1)\n",
      "Requirement already satisfied: importlib-resources>=5 in c:\\users\\nickolaus\\appdata\\local\\programs\\python\\python312\\lib\\site-packages (from cmudict->textstat) (6.5.2)\n",
      "Requirement already satisfied: MarkupSafe>=2.0 in c:\\users\\nickolaus\\appdata\\local\\programs\\python\\python312\\lib\\site-packages (from jinja2->spacy) (2.1.5)\n",
      "Requirement already satisfied: python-dateutil>=2.8.2 in c:\\users\\nickolaus\\appdata\\local\\programs\\python\\python312\\lib\\site-packages (from pandas->datasets) (2.8.2)\n",
      "Requirement already satisfied: pytz>=2020.1 in c:\\users\\nickolaus\\appdata\\local\\programs\\python\\python312\\lib\\site-packages (from pandas->datasets) (2023.4)\n",
      "Requirement already satisfied: tzdata>=2022.7 in c:\\users\\nickolaus\\appdata\\local\\programs\\python\\python312\\lib\\site-packages (from pandas->datasets) (2024.1)\n",
      "Requirement already satisfied: zipp>=3.20 in c:\\users\\nickolaus\\appdata\\local\\programs\\python\\python312\\lib\\site-packages (from importlib-metadata>=5->cmudict->textstat) (3.21.0)\n",
      "Requirement already satisfied: marisa-trie>=0.7.7 in c:\\users\\nickolaus\\appdata\\local\\programs\\python\\python312\\lib\\site-packages (from language-data>=1.2->langcodes<4.0.0,>=3.2.0->spacy) (1.2.0)\n",
      "Requirement already satisfied: six>=1.5 in c:\\users\\nickolaus\\appdata\\local\\programs\\python\\python312\\lib\\site-packages (from python-dateutil>=2.8.2->pandas->datasets) (1.16.0)\n",
      "Requirement already satisfied: markdown-it-py>=2.2.0 in c:\\users\\nickolaus\\appdata\\local\\programs\\python\\python312\\lib\\site-packages (from rich>=10.11.0->typer<1.0.0,>=0.3.0->spacy) (3.0.0)\n",
      "Requirement already satisfied: pygments<3.0.0,>=2.13.0 in c:\\users\\nickolaus\\appdata\\roaming\\python\\python312\\site-packages (from rich>=10.11.0->typer<1.0.0,>=0.3.0->spacy) (2.17.2)\n",
      "Requirement already satisfied: wrapt in c:\\users\\nickolaus\\appdata\\local\\programs\\python\\python312\\lib\\site-packages (from smart-open<8.0.0,>=5.2.1->weasel<0.5.0,>=0.1.0->spacy) (1.16.0)\n",
      "Requirement already satisfied: mdurl~=0.1 in c:\\users\\nickolaus\\appdata\\local\\programs\\python\\python312\\lib\\site-packages (from markdown-it-py>=2.2.0->rich>=10.11.0->typer<1.0.0,>=0.3.0->spacy) (0.1.2)\n",
      "Note: you may need to restart the kernel to use updated packages.\n"
     ]
    },
    {
     "name": "stderr",
     "output_type": "stream",
     "text": [
      "\n",
      "[notice] A new release of pip is available: 24.3.1 -> 25.0.1\n",
      "[notice] To update, run: python.exe -m pip install --upgrade pip\n"
     ]
    }
   ],
   "source": [
    "%pip install datasets nltk spacy wordfreq language-tool-python textstat cffi"
   ]
  },
  {
   "cell_type": "code",
   "execution_count": 4,
   "metadata": {},
   "outputs": [
    {
     "name": "stdout",
     "output_type": "stream",
     "text": [
      "Collecting en-core-web-sm==3.8.0\n",
      "  Downloading https://github.com/explosion/spacy-models/releases/download/en_core_web_sm-3.8.0/en_core_web_sm-3.8.0-py3-none-any.whl (12.8 MB)\n",
      "     ---------------------------------------- 0.0/12.8 MB ? eta -:--:--\n",
      "     ---------------------------------------- 0.0/12.8 MB 1.4 MB/s eta 0:00:10\n",
      "     --------------------------------------- 0.1/12.8 MB 825.8 kB/s eta 0:00:16\n",
      "      --------------------------------------- 0.2/12.8 MB 1.2 MB/s eta 0:00:11\n",
      "      --------------------------------------- 0.2/12.8 MB 1.0 MB/s eta 0:00:13\n",
      "      --------------------------------------- 0.3/12.8 MB 1.3 MB/s eta 0:00:10\n",
      "     - -------------------------------------- 0.5/12.8 MB 1.9 MB/s eta 0:00:07\n",
      "     -- ------------------------------------- 0.8/12.8 MB 2.4 MB/s eta 0:00:06\n",
      "     --- ------------------------------------ 1.2/12.8 MB 3.2 MB/s eta 0:00:04\n",
      "     ---- ----------------------------------- 1.5/12.8 MB 3.4 MB/s eta 0:00:04\n",
      "     ------- -------------------------------- 2.3/12.8 MB 5.2 MB/s eta 0:00:03\n",
      "     ------- -------------------------------- 2.5/12.8 MB 5.0 MB/s eta 0:00:03\n",
      "     ---------- ----------------------------- 3.4/12.8 MB 6.0 MB/s eta 0:00:02\n",
      "     ----------- ---------------------------- 3.7/12.8 MB 6.0 MB/s eta 0:00:02\n",
      "     ------------- -------------------------- 4.3/12.8 MB 6.5 MB/s eta 0:00:02\n",
      "     -------------- ------------------------- 4.7/12.8 MB 6.8 MB/s eta 0:00:02\n",
      "     ------------------ --------------------- 5.8/12.8 MB 7.8 MB/s eta 0:00:01\n",
      "     --------------------- ------------------ 6.8/12.8 MB 8.5 MB/s eta 0:00:01\n",
      "     --------------------- ------------------ 6.9/12.8 MB 8.2 MB/s eta 0:00:01\n",
      "     ----------------------- ---------------- 7.5/12.8 MB 8.4 MB/s eta 0:00:01\n",
      "     ------------------------- -------------- 8.2/12.8 MB 8.7 MB/s eta 0:00:01\n",
      "     -------------------------- ------------- 8.4/12.8 MB 8.6 MB/s eta 0:00:01\n",
      "     ---------------------------- ----------- 9.1/12.8 MB 8.9 MB/s eta 0:00:01\n",
      "     ------------------------------- ------- 10.4/12.8 MB 10.7 MB/s eta 0:00:01\n",
      "     ---------------------------------- ---- 11.2/12.8 MB 13.6 MB/s eta 0:00:01\n",
      "     ----------------------------------- --- 11.8/12.8 MB 13.9 MB/s eta 0:00:01\n",
      "     --------------------------------------  12.8/12.8 MB 15.2 MB/s eta 0:00:01\n",
      "     --------------------------------------- 12.8/12.8 MB 14.2 MB/s eta 0:00:00\n",
      "Installing collected packages: en-core-web-sm\n",
      "Successfully installed en-core-web-sm-3.8.0\n",
      "\u001b[38;5;2m✔ Download and installation successful\u001b[0m\n",
      "You can now load the package via spacy.load('en_core_web_sm')\n"
     ]
    },
    {
     "name": "stderr",
     "output_type": "stream",
     "text": [
      "\n",
      "[notice] A new release of pip is available: 24.0 -> 25.0.1\n",
      "[notice] To update, run: python.exe -m pip install --upgrade pip\n"
     ]
    }
   ],
   "source": [
    "!python -m spacy download en_core_web_sm"
   ]
  },
  {
   "cell_type": "code",
   "execution_count": 67,
   "metadata": {},
   "outputs": [
    {
     "name": "stderr",
     "output_type": "stream",
     "text": [
      "[nltk_data] Downloading package punkt to\n",
      "[nltk_data]     C:\\Users\\Nickolaus\\AppData\\Roaming\\nltk_data...\n",
      "[nltk_data]   Package punkt is already up-to-date!\n",
      "[nltk_data] Downloading package stopwords to\n",
      "[nltk_data]     C:\\Users\\Nickolaus\\AppData\\Roaming\\nltk_data...\n",
      "[nltk_data]   Unzipping corpora\\stopwords.zip.\n"
     ]
    },
    {
     "data": {
      "text/plain": [
       "True"
      ]
     },
     "execution_count": 67,
     "metadata": {},
     "output_type": "execute_result"
    }
   ],
   "source": [
    "import nltk\n",
    "\n",
    "nltk.download('punkt')\n",
    "nltk.download('stopwords')"
   ]
  },
  {
   "cell_type": "code",
   "execution_count": 3,
   "metadata": {},
   "outputs": [
    {
     "name": "stdout",
     "output_type": "stream",
     "text": [
      "Requirement already satisfied: matplotlib in c:\\users\\nickolaus\\appdata\\local\\programs\\python\\python312\\lib\\site-packages (3.8.2)\n",
      "Requirement already satisfied: contourpy>=1.0.1 in c:\\users\\nickolaus\\appdata\\local\\programs\\python\\python312\\lib\\site-packages (from matplotlib) (1.2.0)\n",
      "Requirement already satisfied: cycler>=0.10 in c:\\users\\nickolaus\\appdata\\local\\programs\\python\\python312\\lib\\site-packages (from matplotlib) (0.12.1)\n",
      "Requirement already satisfied: fonttools>=4.22.0 in c:\\users\\nickolaus\\appdata\\local\\programs\\python\\python312\\lib\\site-packages (from matplotlib) (4.48.1)\n",
      "Requirement already satisfied: kiwisolver>=1.3.1 in c:\\users\\nickolaus\\appdata\\local\\programs\\python\\python312\\lib\\site-packages (from matplotlib) (1.4.5)\n",
      "Requirement already satisfied: numpy<2,>=1.21 in c:\\users\\nickolaus\\appdata\\local\\programs\\python\\python312\\lib\\site-packages (from matplotlib) (1.26.4)\n",
      "Requirement already satisfied: packaging>=20.0 in c:\\users\\nickolaus\\appdata\\local\\programs\\python\\python312\\lib\\site-packages (from matplotlib) (24.1)\n",
      "Requirement already satisfied: pillow>=8 in c:\\users\\nickolaus\\appdata\\local\\programs\\python\\python312\\lib\\site-packages (from matplotlib) (10.2.0)\n",
      "Requirement already satisfied: pyparsing>=2.3.1 in c:\\users\\nickolaus\\appdata\\local\\programs\\python\\python312\\lib\\site-packages (from matplotlib) (3.1.1)\n",
      "Requirement already satisfied: python-dateutil>=2.7 in c:\\users\\nickolaus\\appdata\\local\\programs\\python\\python312\\lib\\site-packages (from matplotlib) (2.8.2)\n",
      "Requirement already satisfied: six>=1.5 in c:\\users\\nickolaus\\appdata\\local\\programs\\python\\python312\\lib\\site-packages (from python-dateutil>=2.7->matplotlib) (1.16.0)\n"
     ]
    },
    {
     "name": "stderr",
     "output_type": "stream",
     "text": [
      "\n",
      "[notice] A new release of pip is available: 24.3.1 -> 25.0.1\n",
      "[notice] To update, run: python.exe -m pip install --upgrade pip\n"
     ]
    }
   ],
   "source": [
    "!pip install matplotlib"
   ]
  },
  {
   "cell_type": "code",
   "execution_count": 17,
   "metadata": {},
   "outputs": [],
   "source": [
    "import matplotlib.pyplot as plt\n",
    "import numpy as np\n",
    "\n",
    "from tqdm import tqdm"
   ]
  },
  {
   "cell_type": "markdown",
   "metadata": {},
   "source": [
    "# Loading DS"
   ]
  },
  {
   "cell_type": "code",
   "execution_count": 70,
   "metadata": {},
   "outputs": [],
   "source": [
    "LANGUAGE = 'en'\n",
    "LANGUAGE_FULL = 'english'"
   ]
  },
  {
   "cell_type": "code",
   "execution_count": 7,
   "metadata": {},
   "outputs": [
    {
     "name": "stdout",
     "output_type": "stream",
     "text": [
      "{'id': 0, 'conversations': [{'from': 'human', 'value': 'Write a PHP program to flatten a multi-dimensional array, but without using any built-in functions or methods for flattening arrays. Additionally, ensure that the program can handle arrays with a depth of up to 10 levels.'}, {'from': 'gpt', 'value': \"Here's a PHP program to flatten a multi-dimensional array without using any built-in functions or methods for flattening arrays:\\n\\n```php\\n<?php\\n\\nfunction flattenArray($arr) {\\n    $result = [];\\n    \\n    foreach ($arr as $value) {\\n        if (is_array($value)) {\\n            $nestedArray = flattenArray($value);\\n            foreach ($nestedArray as $nestedValue) {\\n                $result[] = $nestedValue;\\n            }\\n        } else {\\n            $result[] = $value;\\n        }\\n    }\\n    \\n    return $result;\\n}\\n\\n// Test the function\\n$multiDimensionalArray = [1, 2, [3, 4, [5, 6, [7, 8, [9, 10]]]]];\\n$flattenedArray = flattenArray($multiDimensionalArray);\\n\\nprint_r($flattenedArray);\\n\\n?>\\n```\\n\\nThis program defines a function `flattenArray()` which takes an array as input and returns a flattened version of the array. The function recursively traverses the input array and appends each value to a new array `$result`. If a value is an array, the function calls itself recursively with the nested array and appends each value to `$result`. If a value is not an array, it is directly appended to `$result`.\\n\\nThe program then tests the `flattenArray()` function with an example multi-dimensional array `$multiDimensionalArray` and prints the resulting flattened array using `print_r()`.\"}], 'label': '', 'langdetect': 'en', 'source': 'Evol-Instruct-Code-80K'}\n"
     ]
    }
   ],
   "source": [
    "from datasets import load_dataset, load_from_disk\n",
    "\n",
    "# dataset = load_dataset('BAAI/Infinity-Instruct', '3M', split='train[:1%]')\n",
    "dataset = load_from_disk(\"infinity_instruct\")\n",
    "print(dataset[0])"
   ]
  },
  {
   "cell_type": "code",
   "execution_count": 2,
   "metadata": {},
   "outputs": [
    {
     "name": "stderr",
     "output_type": "stream",
     "text": [
      "Saving the dataset (1/1 shards): 100%|██████████| 34635/34635 [00:00<00:00, 236639.18 examples/s]"
     ]
    },
    {
     "name": "stdout",
     "output_type": "stream",
     "text": [
      "Saved locally\n"
     ]
    },
    {
     "name": "stderr",
     "output_type": "stream",
     "text": [
      "\n"
     ]
    }
   ],
   "source": [
    "dataset.save_to_disk(\"infinity_instruct\")\n",
    "print(\"Saved locally\")"
   ]
  },
  {
   "cell_type": "markdown",
   "metadata": {},
   "source": [
    "# Preprocessing"
   ]
  },
  {
   "cell_type": "code",
   "execution_count": null,
   "metadata": {},
   "outputs": [
    {
     "name": "stderr",
     "output_type": "stream",
     "text": [
      "Processing dataset: 100%|██████████| 34635/34635 [00:02<00:00, 14406.28it/s]\n"
     ]
    }
   ],
   "source": [
    "texts = []\n",
    "for item in tqdm(dataset, desc=\"Processing dataset\"):\n",
    "    for conv in item['conversations']:\n",
    "        if conv['from'] == 'human':\n",
    "            texts.append(conv['value'])"
   ]
  },
  {
   "cell_type": "code",
   "execution_count": 9,
   "metadata": {},
   "outputs": [
    {
     "name": "stdout",
     "output_type": "stream",
     "text": [
      "51847\n"
     ]
    }
   ],
   "source": [
    "print(len(texts))"
   ]
  },
  {
   "cell_type": "code",
   "execution_count": 10,
   "metadata": {},
   "outputs": [
    {
     "data": {
      "text/plain": [
       "'Write a PHP program to flatten a multi-dimensional array, but without using any built-in functions or methods for flattening arrays. Additionally, ensure that the program can handle arrays with a depth of up to 10 levels.'"
      ]
     },
     "execution_count": 10,
     "metadata": {},
     "output_type": "execute_result"
    }
   ],
   "source": [
    "texts[0]"
   ]
  },
  {
   "cell_type": "code",
   "execution_count": 11,
   "metadata": {},
   "outputs": [],
   "source": [
    "full_text = \"\\n\".join(texts)"
   ]
  },
  {
   "cell_type": "markdown",
   "metadata": {},
   "source": [
    "# Computing"
   ]
  },
  {
   "cell_type": "code",
   "execution_count": 12,
   "metadata": {},
   "outputs": [],
   "source": [
    "metrics_res = {}"
   ]
  },
  {
   "cell_type": "markdown",
   "metadata": {},
   "source": [
    "## Lexical"
   ]
  },
  {
   "cell_type": "markdown",
   "metadata": {},
   "source": [
    "### Word-frequency list"
   ]
  },
  {
   "cell_type": "code",
   "execution_count": 13,
   "metadata": {},
   "outputs": [
    {
     "name": "stdout",
     "output_type": "stream",
     "text": [
      "[('the', 142489), ('to', 68741), ('and', 68372), ('a', 67634), ('of', 67168), ('in', 39507), ('is', 35553), ('for', 27584), ('that', 24544), ('with', 17840)]\n"
     ]
    }
   ],
   "source": [
    "from collections import Counter\n",
    "from wordfreq import word_frequency\n",
    "\n",
    "words = full_text.split()\n",
    "word_counts = Counter(words)\n",
    "\n",
    "zipf_scores = {word: word_frequency(word, LANGUAGE) for word in word_counts}\n",
    "print(word_counts.most_common(10))"
   ]
  },
  {
   "cell_type": "code",
   "execution_count": 76,
   "metadata": {},
   "outputs": [
    {
     "name": "stderr",
     "output_type": "stream",
     "text": [
      "Computing difficulty: 100%|██████████| 51847/51847 [00:00<00:00, 76300.07it/s]\n"
     ]
    }
   ],
   "source": [
    "def compute_difficulty(text):\n",
    "    words = text.split()\n",
    "    score = 0\n",
    "    for word in words:\n",
    "        word_freq = zipf_scores[word]\n",
    "        score += 1 / (word_freq if word_freq > 0 else 1e-6)\n",
    "    return score\n",
    "\n",
    "metrics_res['word_frequency'] = [compute_difficulty(text) for text in tqdm(texts, desc=\"Computing difficulty\")]"
   ]
  },
  {
   "cell_type": "code",
   "execution_count": 77,
   "metadata": {},
   "outputs": [
    {
     "name": "stdout",
     "output_type": "stream",
     "text": [
      "51847\n"
     ]
    },
    {
     "data": {
      "image/png": "[encoded data removed]",
      "text/plain": [
       "<Figure size 1200x600 with 1 Axes>"
      ]
     },
     "metadata": {},
     "output_type": "display_data"
    }
   ],
   "source": [
    "scores = [(index, score) for index, score in enumerate(metrics_res['word_frequency'])]\n",
    "# indicies, scores = zip(*scores) if scores else ([], [])\n",
    "print(len(scores))\n",
    "\n",
    "plt.figure(figsize=(12, 6))\n",
    "plt.plot(range(len(scores)), scores, marker='o', linestyle='-', markersize=2, alpha=0.7)\n",
    "plt.xlabel(\"Prompt Number\")\n",
    "plt.ylabel(\"Difficulty Score\")\n",
    "plt.title(\"Prompt Difficulty Based on Word Frequency\")\n",
    "plt.xticks(np.arange(0, len(scores), step=max(1, len(scores)//10)))\n",
    "plt.grid(True)\n",
    "\n",
    "plt.show()"
   ]
  },
  {
   "cell_type": "code",
   "execution_count": 78,
   "metadata": {},
   "outputs": [],
   "source": [
    "def print_most_difficult(scores):\n",
    "    most_difficult = (sorted(scores, key=lambda x : x[1], reverse=True))[:3]\n",
    "    for diff in most_difficult:\n",
    "        print(diff[0], end=\" \")\n",
    "    print()\n",
    "\n",
    "    for idx, diff in enumerate(most_difficult):\n",
    "        print(\"---\", idx + 1, \"example (\", diff[1], \"):\")\n",
    "        print(texts[diff[0]])\n",
    "        print(\"------\\n\")"
   ]
  },
  {
   "cell_type": "code",
   "execution_count": 79,
   "metadata": {},
   "outputs": [
    {
     "name": "stdout",
     "output_type": "stream",
     "text": [
      "40772 42278 20673 \n",
      "--- 1 example ( 3.202530394385687e+26 ):\n",
      "Please focus on the algorithm of this problem and provide code in Haskell:\n",
      "Given an integer `n` represented as a string, return _the smallest **good base** of_ `n`.\n",
      "\n",
      "We call `k >= 2` a **good base** of `n`, if all digits of `n` base `k` are `1`'s.\n",
      "\n",
      "**Example 1:**\n",
      "\n",
      "**Input:** n =  \"13 \"\n",
      "**Output:**  \"3 \"\n",
      "**Explanation:** 13 base 3 is 111.\n",
      "\n",
      "**Example 2:**\n",
      "\n",
      "**Input:** n =  \"4681 \"\n",
      "**Output:**  \"8 \"\n",
      "**Explanation:** 4681 base 8 is 11111.\n",
      "\n",
      "**Example 3:**\n",
      "\n",
      "**Input:** n =  \"1000000000000000000 \"\n",
      "**Output:**  \"999999999999999999 \"\n",
      "**Explanation:** 1000000000000000000 base 999999999999999999 is 11.\n",
      "\n",
      "**Constraints:**\n",
      "\n",
      "*   `n` is an integer in the range `[3, 1018]`.\n",
      "*   `n` does not contain any leading zeros.\n",
      "------\n",
      "\n",
      "--- 2 example ( 5.721393039048795e+25 ):\n",
      "##1801##C: Canisal cryptography\n",
      "\n",
      "problem\n",
      "\n",
      "Ebi-chan was given the string C obtained by encrypting a non-negative integer D with \"canisal cipher\". This cipher replaces each number in decimal notation with a fixed number (not necessarily different from the original). Different numbers will not be replaced with the same number, and the same number will not be rewritten to a different number depending on the position of appearance.\n",
      "\n",
      "For example, this encryption method can result in 2646 being 0545, but not 3456 being 1333 or 1333 being 3456.\n",
      "\n",
      "Now, Ebi-chan has been told that the remainder of dividing D by 10 ^ 9 + 7 is M. At this time, output one that can be considered as D. If you can think of more than one, you can output any of them. However, it is assumed that there is no extra `0` at the beginning of D.\n",
      "\n",
      "Input format\n",
      "\n",
      "\n",
      "M\n",
      "C\n",
      "\n",
      "\n",
      "Constraint\n",
      "\n",
      "* 0 \\ leq M <10 ^ 9 + 7\n",
      "* 1 \\ leq | C | \\ leq 10 ^ 5\n",
      "\n",
      "\n",
      "\n",
      "Output format\n",
      "\n",
      "Print a non-negative integer that can be considered as D on one line. If it does not exist, output `-1`.\n",
      "\n",
      "Input example 1\n",
      "\n",
      "\n",
      "2\n",
      "1000000007\n",
      "\n",
      "\n",
      "Output example 1\n",
      "\n",
      "\n",
      "1000000009\n",
      "\n",
      "The encryption method this time was to replace 0 with 0, 1 with 1, and 9 with 7.\n",
      "\n",
      "Input example 2\n",
      "\n",
      "\n",
      "3\n",
      "1000000007\n",
      "\n",
      "\n",
      "Output example 2\n",
      "\n",
      "\n",
      "-1\n",
      "\n",
      "Input example 3\n",
      "\n",
      "\n",
      "1\n",
      "01 01\n",
      "\n",
      "\n",
      "Output example 3\n",
      "\n",
      "\n",
      "-1\n",
      "\n",
      "There is no extra `0` at the beginning of the D.\n",
      "\n",
      "Input example 4\n",
      "\n",
      "\n",
      "45\n",
      "1000000023\n",
      "\n",
      "\n",
      "Output example 4\n",
      "\n",
      "\n",
      "6000000087\n",
      "\n",
      "Since `1000000052` and` 2000000059` also satisfy the conditions, you can output them.\n",
      "\n",
      "Input example 5\n",
      "\n",
      "\n",
      "0\n",
      "940578326285963740\n",
      "\n",
      "\n",
      "Output example 5\n",
      "\n",
      "\n",
      "123456789864197523\n",
      "\n",
      "\n",
      "\n",
      "\n",
      "\n",
      "Example\n",
      "\n",
      "Input\n",
      "\n",
      "2\n",
      "1000000007\n",
      "\n",
      "\n",
      "Output\n",
      "\n",
      "1000000009\n",
      "------\n",
      "\n",
      "--- 3 example ( 2.150537634408602e+25 ):\n",
      "The speed at which a man can row a boat in still water is 9.5 kmph. If he rows downstream, where the speed of current is a certain speed, he takes 9.099272058235341 seconds to cover 45.5 meters. What is the speed of the current?\n",
      "------\n",
      "\n"
     ]
    }
   ],
   "source": [
    "print_most_difficult(scores)"
   ]
  },
  {
   "cell_type": "markdown",
   "metadata": {},
   "source": [
    "### Identify stop words"
   ]
  },
  {
   "cell_type": "code",
   "execution_count": 80,
   "metadata": {},
   "outputs": [
    {
     "name": "stderr",
     "output_type": "stream",
     "text": [
      "Computing difficulty (no stop-words): 100%|██████████| 51847/51847 [00:00<00:00, 55980.26it/s]\n"
     ]
    }
   ],
   "source": [
    "from nltk.corpus import stopwords\n",
    "\n",
    "stop_words = set(stopwords.words(LANGUAGE_FULL))\n",
    "\n",
    "def compute_difficulty_excluding_stopwords(text):\n",
    "    words = text.split()\n",
    "    score = 0\n",
    "    for word in words:\n",
    "        # Skip stop-words\n",
    "        if word.lower() in stop_words:\n",
    "            continue\n",
    "        # Get word frequency from Zipf's law\n",
    "        word_freq = zipf_scores.get(word, 0)\n",
    "        # Add to score (avoid division by zero with a small number)\n",
    "        score += 1 / (word_freq if word_freq > 0 else 1e-6)\n",
    "    return score\n",
    "\n",
    "metrics_res['stopwords'] = [\n",
    "    compute_difficulty_excluding_stopwords(text) for text in tqdm(texts, desc=\"Computing difficulty (no stop-words)\")\n",
    "]"
   ]
  },
  {
   "cell_type": "code",
   "execution_count": 81,
   "metadata": {},
   "outputs": [
    {
     "name": "stdout",
     "output_type": "stream",
     "text": [
      "Total prompts: 51847\n"
     ]
    },
    {
     "data": {
      "image/png": "[encoded data removed]",
      "text/plain": [
       "<Figure size 1200x600 with 1 Axes>"
      ]
     },
     "metadata": {},
     "output_type": "display_data"
    }
   ],
   "source": [
    "scores = [(index, score) for index, score in enumerate(metrics_res['stopwords'])]\n",
    "print(f\"Total prompts: {len(scores)}\")\n",
    "\n",
    "# Plotting the results\n",
    "plt.figure(figsize=(12, 6))\n",
    "plt.plot(range(len(scores)), scores, marker='o', linestyle='-', markersize=2, alpha=0.7)\n",
    "plt.xlabel(\"Prompt Number\")\n",
    "plt.ylabel(\"Difficulty Score (No Stop-Words)\")\n",
    "plt.title(\"Prompt Difficulty Based on Word Frequency (Excluding Stop-Words)\")\n",
    "plt.xticks(np.arange(0, len(scores), step=max(1, len(scores)//10)))\n",
    "plt.grid(True)\n",
    "plt.show()"
   ]
  },
  {
   "cell_type": "code",
   "execution_count": 82,
   "metadata": {},
   "outputs": [
    {
     "name": "stdout",
     "output_type": "stream",
     "text": [
      "40772 42278 20673 \n",
      "--- 1 example ( 3.202530394385687e+26 ):\n",
      "Please focus on the algorithm of this problem and provide code in Haskell:\n",
      "Given an integer `n` represented as a string, return _the smallest **good base** of_ `n`.\n",
      "\n",
      "We call `k >= 2` a **good base** of `n`, if all digits of `n` base `k` are `1`'s.\n",
      "\n",
      "**Example 1:**\n",
      "\n",
      "**Input:** n =  \"13 \"\n",
      "**Output:**  \"3 \"\n",
      "**Explanation:** 13 base 3 is 111.\n",
      "\n",
      "**Example 2:**\n",
      "\n",
      "**Input:** n =  \"4681 \"\n",
      "**Output:**  \"8 \"\n",
      "**Explanation:** 4681 base 8 is 11111.\n",
      "\n",
      "**Example 3:**\n",
      "\n",
      "**Input:** n =  \"1000000000000000000 \"\n",
      "**Output:**  \"999999999999999999 \"\n",
      "**Explanation:** 1000000000000000000 base 999999999999999999 is 11.\n",
      "\n",
      "**Constraints:**\n",
      "\n",
      "*   `n` is an integer in the range `[3, 1018]`.\n",
      "*   `n` does not contain any leading zeros.\n",
      "------\n",
      "\n",
      "--- 2 example ( 5.721393039048795e+25 ):\n",
      "##1801##C: Canisal cryptography\n",
      "\n",
      "problem\n",
      "\n",
      "Ebi-chan was given the string C obtained by encrypting a non-negative integer D with \"canisal cipher\". This cipher replaces each number in decimal notation with a fixed number (not necessarily different from the original). Different numbers will not be replaced with the same number, and the same number will not be rewritten to a different number depending on the position of appearance.\n",
      "\n",
      "For example, this encryption method can result in 2646 being 0545, but not 3456 being 1333 or 1333 being 3456.\n",
      "\n",
      "Now, Ebi-chan has been told that the remainder of dividing D by 10 ^ 9 + 7 is M. At this time, output one that can be considered as D. If you can think of more than one, you can output any of them. However, it is assumed that there is no extra `0` at the beginning of D.\n",
      "\n",
      "Input format\n",
      "\n",
      "\n",
      "M\n",
      "C\n",
      "\n",
      "\n",
      "Constraint\n",
      "\n",
      "* 0 \\ leq M <10 ^ 9 + 7\n",
      "* 1 \\ leq | C | \\ leq 10 ^ 5\n",
      "\n",
      "\n",
      "\n",
      "Output format\n",
      "\n",
      "Print a non-negative integer that can be considered as D on one line. If it does not exist, output `-1`.\n",
      "\n",
      "Input example 1\n",
      "\n",
      "\n",
      "2\n",
      "1000000007\n",
      "\n",
      "\n",
      "Output example 1\n",
      "\n",
      "\n",
      "1000000009\n",
      "\n",
      "The encryption method this time was to replace 0 with 0, 1 with 1, and 9 with 7.\n",
      "\n",
      "Input example 2\n",
      "\n",
      "\n",
      "3\n",
      "1000000007\n",
      "\n",
      "\n",
      "Output example 2\n",
      "\n",
      "\n",
      "-1\n",
      "\n",
      "Input example 3\n",
      "\n",
      "\n",
      "1\n",
      "01 01\n",
      "\n",
      "\n",
      "Output example 3\n",
      "\n",
      "\n",
      "-1\n",
      "\n",
      "There is no extra `0` at the beginning of the D.\n",
      "\n",
      "Input example 4\n",
      "\n",
      "\n",
      "45\n",
      "1000000023\n",
      "\n",
      "\n",
      "Output example 4\n",
      "\n",
      "\n",
      "6000000087\n",
      "\n",
      "Since `1000000052` and` 2000000059` also satisfy the conditions, you can output them.\n",
      "\n",
      "Input example 5\n",
      "\n",
      "\n",
      "0\n",
      "940578326285963740\n",
      "\n",
      "\n",
      "Output example 5\n",
      "\n",
      "\n",
      "123456789864197523\n",
      "\n",
      "\n",
      "\n",
      "\n",
      "\n",
      "Example\n",
      "\n",
      "Input\n",
      "\n",
      "2\n",
      "1000000007\n",
      "\n",
      "\n",
      "Output\n",
      "\n",
      "1000000009\n",
      "------\n",
      "\n",
      "--- 3 example ( 2.150537634408602e+25 ):\n",
      "The speed at which a man can row a boat in still water is 9.5 kmph. If he rows downstream, where the speed of current is a certain speed, he takes 9.099272058235341 seconds to cover 45.5 meters. What is the speed of the current?\n",
      "------\n",
      "\n"
     ]
    }
   ],
   "source": [
    "print_most_difficult(scores)"
   ]
  },
  {
   "cell_type": "markdown",
   "metadata": {},
   "source": [
    "## Syntactic"
   ]
  },
  {
   "cell_type": "markdown",
   "metadata": {},
   "source": [
    "### Number of clauses"
   ]
  },
  {
   "cell_type": "code",
   "execution_count": null,
   "metadata": {},
   "outputs": [],
   "source": [
    "..."
   ]
  },
  {
   "cell_type": "markdown",
   "metadata": {},
   "source": [
    "### Dependency tree"
   ]
  },
  {
   "cell_type": "code",
   "execution_count": null,
   "metadata": {},
   "outputs": [],
   "source": [
    "..."
   ]
  },
  {
   "cell_type": "markdown",
   "metadata": {},
   "source": [
    "### Polysemous words "
   ]
  },
  {
   "cell_type": "code",
   "execution_count": null,
   "metadata": {},
   "outputs": [],
   "source": [
    "..."
   ]
  },
  {
   "cell_type": "markdown",
   "metadata": {},
   "source": [
    "## Semantic"
   ]
  },
  {
   "cell_type": "markdown",
   "metadata": {},
   "source": [
    "### Contextual ambiguity"
   ]
  },
  {
   "cell_type": "code",
   "execution_count": null,
   "metadata": {},
   "outputs": [],
   "source": [
    "..."
   ]
  },
  {
   "cell_type": "markdown",
   "metadata": {},
   "source": [
    "## Grammatical correctness"
   ]
  },
  {
   "cell_type": "markdown",
   "metadata": {},
   "source": [
    "### Checking errors"
   ]
  },
  {
   "cell_type": "code",
   "execution_count": null,
   "metadata": {},
   "outputs": [],
   "source": [
    "..."
   ]
  },
  {
   "cell_type": "markdown",
   "metadata": {},
   "source": [
    "### Part of speech distribution"
   ]
  },
  {
   "cell_type": "code",
   "execution_count": null,
   "metadata": {},
   "outputs": [],
   "source": [
    "..."
   ]
  },
  {
   "cell_type": "markdown",
   "metadata": {},
   "source": [
    "## Readability score"
   ]
  },
  {
   "cell_type": "markdown",
   "metadata": {},
   "source": [
    "### Flesch-Kincaid score"
   ]
  },
  {
   "cell_type": "code",
   "execution_count": null,
   "metadata": {},
   "outputs": [],
   "source": [
    "..."
   ]
  },
  {
   "cell_type": "markdown",
   "metadata": {},
   "source": [
    "### Gunning Fog Index"
   ]
  },
  {
   "cell_type": "code",
   "execution_count": null,
   "metadata": {},
   "outputs": [],
   "source": [
    "..."
   ]
  },
  {
   "cell_type": "markdown",
   "metadata": {},
   "source": [
    "### Dale-Chall Readability Score"
   ]
  },
  {
   "cell_type": "code",
   "execution_count": null,
   "metadata": {},
   "outputs": [],
   "source": [
    "..."
   ]
  }
 ],
 "metadata": {
  "kernelspec": {
   "display_name": "Python 3",
   "language": "python",
   "name": "python3"
  },
  "language_info": {
   "codemirror_mode": {
    "name": "ipython",
    "version": 3
   },
   "file_extension": ".py",
   "mimetype": "text/x-python",
   "name": "python",
   "nbconvert_exporter": "python",
   "pygments_lexer": "ipython3",
   "version": "3.12.2"
  }
 },
 "nbformat": 4,
 "nbformat_minor": 2
}
